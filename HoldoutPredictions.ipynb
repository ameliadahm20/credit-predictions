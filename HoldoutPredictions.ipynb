{
 "cells": [
  {
   "cell_type": "markdown",
   "metadata": {},
   "source": [
    "# Hold Predictions"
   ]
  },
  {
   "cell_type": "code",
   "execution_count": 12,
   "metadata": {},
   "outputs": [],
   "source": [
    "import pandas as pd\n",
    "import numpy as np\n",
    "import joblib"
   ]
  },
  {
   "cell_type": "markdown",
   "metadata": {},
   "source": [
    "## Read dataset and complete same transitions as training and test set"
   ]
  },
  {
   "cell_type": "code",
   "execution_count": 2,
   "metadata": {},
   "outputs": [],
   "source": [
    "df = pd.read_csv('holdout_data.csv' , index_col=0)"
   ]
  },
  {
   "cell_type": "code",
   "execution_count": 3,
   "metadata": {},
   "outputs": [],
   "source": [
    "df = df.rename(columns=\n",
    "           {'X1': 'given_credit',\n",
    "            'X2': 'gender',\n",
    "            'X3': 'education',\n",
    "            'X4': 'martial_status',\n",
    "            'X5': 'age',\n",
    "            'X6': 'past_status_sept',\n",
    "            'X7': 'past_status_aug',\n",
    "            'X8': 'past_status_jul',\n",
    "            'X9': 'past_status_jun',\n",
    "           'X10': 'past_status_may',\n",
    "           'X11': 'past_status_apr',\n",
    "           'X12': 'bill_sept',\n",
    "           'X13': 'bill_aug',\n",
    "           'X14': 'bill_jul',\n",
    "           'X15': 'bill_jun',\n",
    "           'X16': 'bill_may',\n",
    "           'X17': 'bill_apr',\n",
    "           'X18': 'paid_sept',\n",
    "           'X19': 'paid_aug',\n",
    "           'X20': 'paid_jul',\n",
    "           'X21': 'paid_jun',\n",
    "           'X22': 'paid_may',\n",
    "           'X23': 'paid_apr',\n",
    "             'Y': 'target'},\n",
    "              inplace=False)"
   ]
  },
  {
   "cell_type": "code",
   "execution_count": 4,
   "metadata": {},
   "outputs": [],
   "source": [
    "df = df.apply(pd.to_numeric, errors='coerce')"
   ]
  },
  {
   "cell_type": "code",
   "execution_count": 5,
   "metadata": {},
   "outputs": [],
   "source": [
    "df.dropna(axis=0, inplace=True)"
   ]
  },
  {
   "cell_type": "code",
   "execution_count": 6,
   "metadata": {},
   "outputs": [],
   "source": [
    "df['education'] = df['education'].replace(0, 4)\n",
    "df['education'] = df['education'].replace(5, 4)\n",
    "df['education'] = df['education'].replace(6, 4)"
   ]
  },
  {
   "cell_type": "code",
   "execution_count": 7,
   "metadata": {},
   "outputs": [],
   "source": [
    "df['martial_status'] = df['martial_status'].replace(0, 3)"
   ]
  },
  {
   "cell_type": "code",
   "execution_count": 8,
   "metadata": {},
   "outputs": [],
   "source": [
    "df.loc[df['given_credit'] >= 800000, 'given_credit'] = 800000"
   ]
  },
  {
   "cell_type": "code",
   "execution_count": 9,
   "metadata": {},
   "outputs": [],
   "source": [
    "# ADJUSTING BILL OUTLIERS\n",
    "df.loc[df['bill_sept'] >= 450000, 'bill_sept'] = 450000\n",
    "df.loc[df['bill_sept'] <= -9000, 'bill_sept'] = -8000\n",
    "df.loc[df['bill_aug'] >= 450000, 'bill_aug'] = 450000\n",
    "df.loc[df['bill_jul'] >= 450000, 'bill_jul'] = 450000\n",
    "df.loc[df['bill_jul'] <= -100000, 'bill_jul'] = -80000\n",
    "df.loc[df['bill_jun'] >= 450000, 'bill_jun'] = 450000\n",
    "df.loc[df['bill_may'] >= 450000, 'bill_may'] = 450000\n",
    "df.loc[df['bill_apr'] >= 450000, 'bill_apr'] = 450000\n",
    "df.loc[df['bill_apr'] <= -100000, 'bill_apr'] = -150000"
   ]
  },
  {
   "cell_type": "code",
   "execution_count": 10,
   "metadata": {},
   "outputs": [],
   "source": [
    "df.loc[df['paid_sept'] >= 100000, 'paid_sept'] = 100000\n",
    "df.loc[df['paid_aug'] >= 250000, 'paid_aug'] = 250000\n",
    "df.loc[df['paid_jul'] >= 210000, 'paid_jul'] = 210000\n",
    "df.loc[df['paid_jun'] >= 210000, 'paid_jun'] = 210000\n",
    "df.loc[df['paid_may'] >= 210000, 'paid_may'] = 210000\n",
    "df.loc[df['paid_apr'] >= 210000, 'paid_apr'] = 210000"
   ]
  },
  {
   "cell_type": "code",
   "execution_count": 13,
   "metadata": {},
   "outputs": [],
   "source": [
    "df['martial_status_married'] = np.where((df['martial_status']==1), 1, 0)\n",
    "df['martial_status_single'] = np.where((df['martial_status']==2), 1, 0)"
   ]
  },
  {
   "cell_type": "code",
   "execution_count": 14,
   "metadata": {},
   "outputs": [],
   "source": [
    "df['edu_gradschool'] = np.where((df['education']==1), 1, 0)\n",
    "df['edu_uni'] = np.where((df['education']==2), 1, 0)\n",
    "df['edu_highschool'] = np.where((df['education']==3), 1, 0)"
   ]
  },
  {
   "cell_type": "code",
   "execution_count": 15,
   "metadata": {},
   "outputs": [],
   "source": [
    "df['past_status_sum'] = (df.past_status_sept + df.past_status_aug + df.past_status_jul + df.past_status_jun + df.past_status_may + df.past_status_apr) \n",
    "df['past_status_mean'] = ((df.past_status_sept + df.past_status_aug + df.past_status_jul + df.past_status_jun + df.past_status_may + df.past_status_apr) / 6)"
   ]
  },
  {
   "cell_type": "code",
   "execution_count": 16,
   "metadata": {},
   "outputs": [],
   "source": [
    "df['bill_sum'] = (df.bill_sept + df.bill_aug + df.bill_jul + df.bill_jun + df.bill_may + df.bill_apr) \n",
    "df['bill_mean'] = ((df.bill_sept + df.bill_aug + df.bill_jul + df.bill_jun + df.bill_may + df.bill_apr) / 6)"
   ]
  },
  {
   "cell_type": "code",
   "execution_count": 17,
   "metadata": {},
   "outputs": [],
   "source": [
    "df['paid_sum'] = (df.paid_sept + df.paid_aug + df.paid_jul + df.paid_jun + df.paid_may + df.paid_apr) \n",
    "df['paid_mean'] = ((df.paid_sept + df.paid_aug + df.paid_jul + df.paid_jun + df.paid_may + df.paid_apr) / 6)"
   ]
  },
  {
   "cell_type": "code",
   "execution_count": 18,
   "metadata": {},
   "outputs": [],
   "source": [
    "df['bill_paid_sum_diff'] = df.bill_sum - df.paid_sum\n",
    "df['bill_paid_mean_diff'] = df.bill_mean - df.paid_mean"
   ]
  },
  {
   "cell_type": "code",
   "execution_count": 19,
   "metadata": {},
   "outputs": [],
   "source": [
    "df['never_late'] = np.where((df['past_status_sept']<=0) & \n",
    "                    (df['past_status_aug']<=0) & \n",
    "                    (df['past_status_jul']<=0) &\n",
    "                    (df['past_status_jun']<=0) & \n",
    "                    (df['past_status_may']<=0) & \n",
    "                    (df['past_status_apr']<=0), 1, 0)"
   ]
  },
  {
   "cell_type": "markdown",
   "metadata": {},
   "source": [
    "## Predict on holdout set"
   ]
  },
  {
   "cell_type": "code",
   "execution_count": 20,
   "metadata": {},
   "outputs": [],
   "source": [
    "joblib_file = \"bagged_dtc.pkl\"  \n",
    "final_model = joblib.load(joblib_file)\n",
    "output = final_model.predict(df)"
   ]
  },
  {
   "cell_type": "markdown",
   "metadata": {},
   "source": [
    "## Export"
   ]
  },
  {
   "cell_type": "code",
   "execution_count": 22,
   "metadata": {},
   "outputs": [],
   "source": [
    "final_answer = pd.DataFrame(output, columns=['predictions']).to_csv('credit_preds_amelia_dahm.csv')\n"
   ]
  },
  {
   "cell_type": "code",
   "execution_count": null,
   "metadata": {},
   "outputs": [],
   "source": []
  }
 ],
 "metadata": {
  "kernelspec": {
   "display_name": "Python 3",
   "language": "python",
   "name": "python3"
  },
  "language_info": {
   "codemirror_mode": {
    "name": "ipython",
    "version": 3
   },
   "file_extension": ".py",
   "mimetype": "text/x-python",
   "name": "python",
   "nbconvert_exporter": "python",
   "pygments_lexer": "ipython3",
   "version": "3.6.9"
  }
 },
 "nbformat": 4,
 "nbformat_minor": 4
}
